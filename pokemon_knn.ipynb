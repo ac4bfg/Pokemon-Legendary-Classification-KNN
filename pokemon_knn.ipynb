{
  "metadata": {
    "kernelspec": {
      "language": "python",
      "display_name": "Python 3",
      "name": "python3"
    },
    "language_info": {
      "pygments_lexer": "ipython3",
      "nbconvert_exporter": "python",
      "version": "3.6.4",
      "file_extension": ".py",
      "codemirror_mode": {
        "name": "ipython",
        "version": 3
      },
      "name": "python",
      "mimetype": "text/x-python"
    },
    "colab": {
      "name": "pokemon-knn.ipynb",
      "provenance": [],
      "collapsed_sections": []
    }
  },
  "nbformat_minor": 0,
  "nbformat": 4,
  "cells": [
    {
      "cell_type": "markdown",
      "source": [
        "Import Data dan Liblary"
      ],
      "metadata": {
        "_cell_guid": "a60b17e1-62f7-4178-b278-71fe8d33e545",
        "_uuid": "f3dc482a7bae6fa3d18c5c0c81eda3acc702973e",
        "id": "fuLfXNbJ_w_L"
      }
    },
    {
      "cell_type": "code",
      "source": [
        "import pandas as pd\n",
        "import numpy as np\n",
        "import matplotlib.pyplot as plt\n",
        "import seaborn as sns\n",
        "%matplotlib inline"
      ],
      "metadata": {
        "_cell_guid": "79c7e3d0-c299-4dcb-8224-4455121ee9b0",
        "_uuid": "d629ff2d2480ee46fbb7e2d37f6b5fab8052498a",
        "collapsed": true,
        "jupyter": {
          "outputs_hidden": true
        },
        "trusted": true,
        "id": "cEOiEi9m_w_M"
      },
      "execution_count": null,
      "outputs": []
    },
    {
      "cell_type": "code",
      "source": [
        "from google.colab import drive\n",
        "drive.mount('/content/drive')"
      ],
      "metadata": {
        "colab": {
          "base_uri": "https://localhost:8080/"
        },
        "id": "JPdeE9vrAQ7L",
        "outputId": "1cb5a872-a330-456e-87d5-01d156be420b"
      },
      "execution_count": null,
      "outputs": [
        {
          "output_type": "stream",
          "name": "stdout",
          "text": [
            "Mounted at /content/drive\n"
          ]
        }
      ]
    },
    {
      "cell_type": "code",
      "source": [
        "pkmn = pd.read_csv(\"/content/drive/MyDrive/Colab Notebooks/Datamin/Pokemon.csv\", index_col=0)"
      ],
      "metadata": {
        "_cell_guid": "09496b6c-2191-4eaf-9ed4-a73db16b8e1d",
        "_uuid": "732523f23a25d3096710bfc439552cc2942a3301",
        "collapsed": true,
        "jupyter": {
          "outputs_hidden": true
        },
        "trusted": true,
        "id": "8ThNWusZ_w_N"
      },
      "execution_count": null,
      "outputs": []
    },
    {
      "cell_type": "code",
      "source": [
        "pkmn.shape"
      ],
      "metadata": {
        "_cell_guid": "f789b743-2cb1-412a-a25d-8955c4eae4ba",
        "_uuid": "8d725eac42eb93cb270faa9c226bc03132ecc887",
        "trusted": true,
        "colab": {
          "base_uri": "https://localhost:8080/"
        },
        "id": "Mnh8LNH0_w_O",
        "outputId": "a4f2d61a-e504-40a9-b8d5-8f2ecdbbf4e2"
      },
      "execution_count": null,
      "outputs": [
        {
          "output_type": "execute_result",
          "data": {
            "text/plain": [
              "(800, 12)"
            ]
          },
          "metadata": {},
          "execution_count": 4
        }
      ]
    },
    {
      "cell_type": "code",
      "source": [
        "pkmn.columns"
      ],
      "metadata": {
        "_cell_guid": "f08a27c3-9060-48ca-8a75-5fc79c9b0e85",
        "_uuid": "bd165a29d0628429d7abc47fd27047eb7e07991d",
        "trusted": true,
        "colab": {
          "base_uri": "https://localhost:8080/"
        },
        "id": "gZ6QDePD_w_O",
        "outputId": "206a79a8-eb6e-4b93-9586-4d36f70cdab7"
      },
      "execution_count": null,
      "outputs": [
        {
          "output_type": "execute_result",
          "data": {
            "text/plain": [
              "Index(['Name', 'Type 1', 'Type 2', 'Total', 'HP', 'Attack', 'Defense',\n",
              "       'Sp. Atk', 'Sp. Def', 'Speed', 'Generation', 'Legendary'],\n",
              "      dtype='object')"
            ]
          },
          "metadata": {},
          "execution_count": 5
        }
      ]
    },
    {
      "cell_type": "code",
      "source": [
        "pkmn.isnull().sum()"
      ],
      "metadata": {
        "_cell_guid": "debd2859-db22-4773-992e-46e5c756ace0",
        "_uuid": "938113016a3a9423e0fc168e37f6bcc19e139043",
        "trusted": true,
        "colab": {
          "base_uri": "https://localhost:8080/"
        },
        "id": "6bzWHWGP_w_P",
        "outputId": "008352b1-007b-40af-ab1a-94106e35b663"
      },
      "execution_count": null,
      "outputs": [
        {
          "output_type": "execute_result",
          "data": {
            "text/plain": [
              "Name            0\n",
              "Type 1          0\n",
              "Type 2        386\n",
              "Total           0\n",
              "HP              0\n",
              "Attack          0\n",
              "Defense         0\n",
              "Sp. Atk         0\n",
              "Sp. Def         0\n",
              "Speed           0\n",
              "Generation      0\n",
              "Legendary       0\n",
              "dtype: int64"
            ]
          },
          "metadata": {},
          "execution_count": 6
        }
      ]
    },
    {
      "cell_type": "code",
      "source": [
        "sns.set_style('darkgrid')\n",
        "plt.figure(figsize=(10,8))\n",
        "pkmn['Type 1'].value_counts().plot.barh(width=.9).set_title('Pokémon Type', fontsize=14)\n",
        "plt.xlabel('counts', fontsize=12)\n",
        "plt.ylabel('type', fontsize=12)"
      ],
      "metadata": {
        "_cell_guid": "947a5d63-82d1-40e0-8b87-0d23bcb09e3f",
        "_uuid": "7cf2b6bc11425737abf975ccc19888b3f805fed2",
        "trusted": true,
        "colab": {
          "base_uri": "https://localhost:8080/",
          "height": 535
        },
        "id": "IniK-xLr_w_Q",
        "outputId": "947e3be8-8658-4474-9a39-cc118036c556"
      },
      "execution_count": null,
      "outputs": [
        {
          "output_type": "execute_result",
          "data": {
            "text/plain": [
              "Text(0, 0.5, 'type')"
            ]
          },
          "metadata": {},
          "execution_count": 8
        },
        {
          "output_type": "display_data",
          "data": {
            "image/png": "[encoded data removed]",
            "text/plain": [
              "<Figure size 720x576 with 1 Axes>"
            ]
          },
          "metadata": {}
        }
      ]
    },
    {
      "cell_type": "markdown",
      "source": [
        "**Legendary Pokémon berdasarkan tipe**"
      ],
      "metadata": {
        "_uuid": "0db9b5ec1eb78797b41a8d2a5e92398f85ae91ae",
        "_cell_guid": "af965186-a2a6-48f1-8964-3748361e0ea9",
        "id": "bqkU-Nam_w_Q"
      }
    },
    {
      "cell_type": "code",
      "source": [
        "pkmn['Legendary'].value_counts()\n",
        "# 65 Pokemon Legendary"
      ],
      "metadata": {
        "_uuid": "d06111ada97b07c8e0d2fa739d768a5a0815fd13",
        "trusted": true,
        "colab": {
          "base_uri": "https://localhost:8080/"
        },
        "id": "ANIyuIkP_w_R",
        "outputId": "c49c775e-d197-45d0-8deb-842792f2a272"
      },
      "execution_count": null,
      "outputs": [
        {
          "output_type": "execute_result",
          "data": {
            "text/plain": [
              "False    735\n",
              "True      65\n",
              "Name: Legendary, dtype: int64"
            ]
          },
          "metadata": {},
          "execution_count": 9
        }
      ]
    },
    {
      "cell_type": "code",
      "source": [
        "pkmn[pkmn['Legendary']==True]['Type 1'].value_counts()"
      ],
      "metadata": {
        "_cell_guid": "2b8e9a83-2fc0-4071-8760-aa43bf631cc2",
        "_uuid": "8e83bdcb93287b421561f7aa57b353f9d440d1f4",
        "trusted": true,
        "colab": {
          "base_uri": "https://localhost:8080/"
        },
        "id": "9K4QMXrz_w_R",
        "outputId": "2d9772d3-4dc9-45a4-f880-a93161861769"
      },
      "execution_count": null,
      "outputs": [
        {
          "output_type": "execute_result",
          "data": {
            "text/plain": [
              "Psychic     14\n",
              "Dragon      12\n",
              "Fire         5\n",
              "Steel        4\n",
              "Ground       4\n",
              "Water        4\n",
              "Rock         4\n",
              "Electric     4\n",
              "Grass        3\n",
              "Dark         2\n",
              "Flying       2\n",
              "Ghost        2\n",
              "Normal       2\n",
              "Ice          2\n",
              "Fairy        1\n",
              "Name: Type 1, dtype: int64"
            ]
          },
          "metadata": {},
          "execution_count": 10
        }
      ]
    },
    {
      "cell_type": "markdown",
      "source": [
        "**Generations dari Pokémon**"
      ],
      "metadata": {
        "_uuid": "06e8ff8aed31e389e0de0a34bcc075ec6d247a41",
        "id": "Y5d2veG4_w_S"
      }
    },
    {
      "cell_type": "code",
      "source": [
        "pkmn['Generation'].value_counts()"
      ],
      "metadata": {
        "_uuid": "8b3bc51c4a75b24be70c1a8b58762f4eeac1132d",
        "_cell_guid": "9ee91cd8-7601-4ce5-8ef1-df4871b23ff9",
        "trusted": true,
        "colab": {
          "base_uri": "https://localhost:8080/"
        },
        "id": "LVyXCecu_w_S",
        "outputId": "46f35475-a9dd-4d25-9944-0035c38f6b73"
      },
      "execution_count": null,
      "outputs": [
        {
          "output_type": "execute_result",
          "data": {
            "text/plain": [
              "1    166\n",
              "5    165\n",
              "3    160\n",
              "4    121\n",
              "2    106\n",
              "6     82\n",
              "Name: Generation, dtype: int64"
            ]
          },
          "metadata": {},
          "execution_count": 11
        }
      ]
    },
    {
      "cell_type": "code",
      "source": [
        "pkmn2= pkmn.drop(['Total', 'Legendary'], axis=1)"
      ],
      "metadata": {
        "_uuid": "7bbbca75ad48833e14694580156075b234ab7c17",
        "_cell_guid": "36db126b-8d50-4cbd-b916-765803ded9fa",
        "collapsed": true,
        "jupyter": {
          "outputs_hidden": true
        },
        "trusted": true,
        "id": "TiO7GLhs_w_T"
      },
      "execution_count": null,
      "outputs": []
    },
    {
      "cell_type": "markdown",
      "source": [
        "**Boxplot dari powers per Generations 1-6**"
      ],
      "metadata": {
        "_uuid": "a64edc1bc811426988bb16b3703359010d730cff",
        "_cell_guid": "142a4219-8983-463f-83fe-69b2bd9d3e6d",
        "id": "7ObQqAT3_w_T"
      }
    },
    {
      "cell_type": "code",
      "source": [
        "pkmn2.groupby('Generation').boxplot(figsize=(16,10))"
      ],
      "metadata": {
        "_cell_guid": "380274a9-aa0b-4d83-8b10-19009a1dfd79",
        "_uuid": "dad0d8412efa817132a581845addb9d0d8e2cf1b",
        "trusted": true,
        "colab": {
          "base_uri": "https://localhost:8080/",
          "height": 731
        },
        "id": "_9Ozr3qZ_w_T",
        "outputId": "4a2c537c-a998-4eef-f1a3-63af7b69a12c"
      },
      "execution_count": null,
      "outputs": [
        {
          "output_type": "execute_result",
          "data": {
            "text/plain": [
              "1         AxesSubplot(0.1,0.679412;0.363636x0.220588)\n",
              "2    AxesSubplot(0.536364,0.679412;0.363636x0.220588)\n",
              "3         AxesSubplot(0.1,0.414706;0.363636x0.220588)\n",
              "4    AxesSubplot(0.536364,0.414706;0.363636x0.220588)\n",
              "5             AxesSubplot(0.1,0.15;0.363636x0.220588)\n",
              "6        AxesSubplot(0.536364,0.15;0.363636x0.220588)\n",
              "dtype: object"
            ]
          },
          "metadata": {},
          "execution_count": 13
        },
        {
          "output_type": "display_data",
          "data": {
            "image/png": "[encoded data removed]",
            "text/plain": [
              "<Figure size 1152x720 with 6 Axes>"
            ]
          },
          "metadata": {}
        }
      ]
    },
    {
      "cell_type": "markdown",
      "source": [
        "**Siapkan data untuk KNN**\n",
        "\n",
        "* Hapus object dtypes: Name, Type 1, Type 2\n",
        "* Hapus kolom 'Total' sebab menjumlahkan power point merupakan variabel dalam data"
      ],
      "metadata": {
        "_cell_guid": "e5cf4833-877c-4b44-9d0d-cb0591d23ee4",
        "_uuid": "221326ac0cc75cdd760c3fb7292f51e8308a23d7",
        "id": "aCpYZ2aJ_w_U"
      }
    },
    {
      "cell_type": "code",
      "source": [
        "pkmn_knn= pkmn.copy()\n",
        "pkmn_knn.drop(['Name','Type 1', 'Type 2', 'Total'],axis=1, inplace=True)"
      ],
      "metadata": {
        "_cell_guid": "67bcca2a-4232-404a-8fe5-765d8a3450b0",
        "_uuid": "b924e2b888e63699245147b98eef35b9313e21c5",
        "collapsed": true,
        "jupyter": {
          "outputs_hidden": true
        },
        "trusted": true,
        "id": "f_kzntQz_w_U"
      },
      "execution_count": null,
      "outputs": []
    },
    {
      "cell_type": "code",
      "source": [
        "pkmn_knn.head()"
      ],
      "metadata": {
        "_cell_guid": "ff904687-85d3-4609-9dcf-60cf9f9bbcb1",
        "_uuid": "0b00dfe29a271f00da0eb8911be3e982a3be3148",
        "trusted": true,
        "colab": {
          "base_uri": "https://localhost:8080/",
          "height": 238
        },
        "id": "Zun_CFxO_w_V",
        "outputId": "60cdf878-02ac-4c1f-82c8-c290cc3a2c7f"
      },
      "execution_count": null,
      "outputs": [
        {
          "output_type": "execute_result",
          "data": {
            "text/html": [
              "\n",
              "  <div id=\"df-0b451877-8225-4314-a647-dfaecb679984\">\n",
              "    <div class=\"colab-df-container\">\n",
              "      <div>\n",
              "<style scoped>\n",
              "    .dataframe tbody tr th:only-of-type {\n",
              "        vertical-align: middle;\n",
              "    }\n",
              "\n",
              "    .dataframe tbody tr th {\n",
              "        vertical-align: top;\n",
              "    }\n",
              "\n",
              "    .dataframe thead th {\n",
              "        text-align: right;\n",
              "    }\n",
              "</style>\n",
              "<table border=\"1\" class=\"dataframe\">\n",
              "  <thead>\n",
              "    <tr style=\"text-align: right;\">\n",
              "      <th></th>\n",
              "      <th>HP</th>\n",
              "      <th>Attack</th>\n",
              "      <th>Defense</th>\n",
              "      <th>Sp. Atk</th>\n",
              "      <th>Sp. Def</th>\n",
              "      <th>Speed</th>\n",
              "      <th>Generation</th>\n",
              "      <th>Legendary</th>\n",
              "    </tr>\n",
              "    <tr>\n",
              "      <th>#</th>\n",
              "      <th></th>\n",
              "      <th></th>\n",
              "      <th></th>\n",
              "      <th></th>\n",
              "      <th></th>\n",
              "      <th></th>\n",
              "      <th></th>\n",
              "      <th></th>\n",
              "    </tr>\n",
              "  </thead>\n",
              "  <tbody>\n",
              "    <tr>\n",
              "      <th>1</th>\n",
              "      <td>45</td>\n",
              "      <td>49</td>\n",
              "      <td>49</td>\n",
              "      <td>65</td>\n",
              "      <td>65</td>\n",
              "      <td>45</td>\n",
              "      <td>1</td>\n",
              "      <td>False</td>\n",
              "    </tr>\n",
              "    <tr>\n",
              "      <th>2</th>\n",
              "      <td>60</td>\n",
              "      <td>62</td>\n",
              "      <td>63</td>\n",
              "      <td>80</td>\n",
              "      <td>80</td>\n",
              "      <td>60</td>\n",
              "      <td>1</td>\n",
              "      <td>False</td>\n",
              "    </tr>\n",
              "    <tr>\n",
              "      <th>3</th>\n",
              "      <td>80</td>\n",
              "      <td>82</td>\n",
              "      <td>83</td>\n",
              "      <td>100</td>\n",
              "      <td>100</td>\n",
              "      <td>80</td>\n",
              "      <td>1</td>\n",
              "      <td>False</td>\n",
              "    </tr>\n",
              "    <tr>\n",
              "      <th>3</th>\n",
              "      <td>80</td>\n",
              "      <td>100</td>\n",
              "      <td>123</td>\n",
              "      <td>122</td>\n",
              "      <td>120</td>\n",
              "      <td>80</td>\n",
              "      <td>1</td>\n",
              "      <td>False</td>\n",
              "    </tr>\n",
              "    <tr>\n",
              "      <th>4</th>\n",
              "      <td>39</td>\n",
              "      <td>52</td>\n",
              "      <td>43</td>\n",
              "      <td>60</td>\n",
              "      <td>50</td>\n",
              "      <td>65</td>\n",
              "      <td>1</td>\n",
              "      <td>False</td>\n",
              "    </tr>\n",
              "  </tbody>\n",
              "</table>\n",
              "</div>\n",
              "      <button class=\"colab-df-convert\" onclick=\"convertToInteractive('df-0b451877-8225-4314-a647-dfaecb679984')\"\n",
              "              title=\"Convert this dataframe to an interactive table.\"\n",
              "              style=\"display:none;\">\n",
              "        \n",
              "  <svg xmlns=\"http://www.w3.org/2000/svg\" height=\"24px\"viewBox=\"0 0 24 24\"\n",
              "       width=\"24px\">\n",
              "    <path d=\"M0 0h24v24H0V0z\" fill=\"none\"/>\n",
              "    <path d=\"M18.56 5.44l.94 2.06.94-2.06 2.06-.94-2.06-.94-.94-2.06-.94 2.06-2.06.94zm-11 1L8.5 8.5l.94-2.06 2.06-.94-2.06-.94L8.5 2.5l-.94 2.06-2.06.94zm10 10l.94 2.06.94-2.06 2.06-.94-2.06-.94-.94-2.06-.94 2.06-2.06.94z\"/><path d=\"M17.41 7.96l-1.37-1.37c-.4-.4-.92-.59-1.43-.59-.52 0-1.04.2-1.43.59L10.3 9.45l-7.72 7.72c-.78.78-.78 2.05 0 2.83L4 21.41c.39.39.9.59 1.41.59.51 0 1.02-.2 1.41-.59l7.78-7.78 2.81-2.81c.8-.78.8-2.07 0-2.86zM5.41 20L4 18.59l7.72-7.72 1.47 1.35L5.41 20z\"/>\n",
              "  </svg>\n",
              "      </button>\n",
              "      \n",
              "  <style>\n",
              "    .colab-df-container {\n",
              "      display:flex;\n",
              "      flex-wrap:wrap;\n",
              "      gap: 12px;\n",
              "    }\n",
              "\n",
              "    .colab-df-convert {\n",
              "      background-color: #E8F0FE;\n",
              "      border: none;\n",
              "      border-radius: 50%;\n",
              "      cursor: pointer;\n",
              "      display: none;\n",
              "      fill: #1967D2;\n",
              "      height: 32px;\n",
              "      padding: 0 0 0 0;\n",
              "      width: 32px;\n",
              "    }\n",
              "\n",
              "    .colab-df-convert:hover {\n",
              "      background-color: #E2EBFA;\n",
              "      box-shadow: 0px 1px 2px rgba(60, 64, 67, 0.3), 0px 1px 3px 1px rgba(60, 64, 67, 0.15);\n",
              "      fill: #174EA6;\n",
              "    }\n",
              "\n",
              "    [theme=dark] .colab-df-convert {\n",
              "      background-color: #3B4455;\n",
              "      fill: #D2E3FC;\n",
              "    }\n",
              "\n",
              "    [theme=dark] .colab-df-convert:hover {\n",
              "      background-color: #434B5C;\n",
              "      box-shadow: 0px 1px 3px 1px rgba(0, 0, 0, 0.15);\n",
              "      filter: drop-shadow(0px 1px 2px rgba(0, 0, 0, 0.3));\n",
              "      fill: #FFFFFF;\n",
              "    }\n",
              "  </style>\n",
              "\n",
              "      <script>\n",
              "        const buttonEl =\n",
              "          document.querySelector('#df-0b451877-8225-4314-a647-dfaecb679984 button.colab-df-convert');\n",
              "        buttonEl.style.display =\n",
              "          google.colab.kernel.accessAllowed ? 'block' : 'none';\n",
              "\n",
              "        async function convertToInteractive(key) {\n",
              "          const element = document.querySelector('#df-0b451877-8225-4314-a647-dfaecb679984');\n",
              "          const dataTable =\n",
              "            await google.colab.kernel.invokeFunction('convertToInteractive',\n",
              "                                                     [key], {});\n",
              "          if (!dataTable) return;\n",
              "\n",
              "          const docLinkHtml = 'Like what you see? Visit the ' +\n",
              "            '<a target=\"_blank\" href=https://colab.research.google.com/notebooks/data_table.ipynb>data table notebook</a>'\n",
              "            + ' to learn more about interactive tables.';\n",
              "          element.innerHTML = '';\n",
              "          dataTable['output_type'] = 'display_data';\n",
              "          await google.colab.output.renderOutput(dataTable, element);\n",
              "          const docLink = document.createElement('div');\n",
              "          docLink.innerHTML = docLinkHtml;\n",
              "          element.appendChild(docLink);\n",
              "        }\n",
              "      </script>\n",
              "    </div>\n",
              "  </div>\n",
              "  "
            ],
            "text/plain": [
              "   HP  Attack  Defense  Sp. Atk  Sp. Def  Speed  Generation  Legendary\n",
              "#                                                                     \n",
              "1  45      49       49       65       65     45           1      False\n",
              "2  60      62       63       80       80     60           1      False\n",
              "3  80      82       83      100      100     80           1      False\n",
              "3  80     100      123      122      120     80           1      False\n",
              "4  39      52       43       60       50     65           1      False"
            ]
          },
          "metadata": {},
          "execution_count": 15
        }
      ]
    },
    {
      "cell_type": "code",
      "source": [
        "pkmn_knn.dtypes"
      ],
      "metadata": {
        "_cell_guid": "d0f4d876-e69a-4a23-9baf-e0d629ee409f",
        "_uuid": "8c7214968e91468f992b39ba4fd308f19bb51a22",
        "trusted": true,
        "colab": {
          "base_uri": "https://localhost:8080/"
        },
        "id": "90N4-WwK_w_W",
        "outputId": "f9983811-acc5-4b9a-efc0-642e3370e0a4"
      },
      "execution_count": null,
      "outputs": [
        {
          "output_type": "execute_result",
          "data": {
            "text/plain": [
              "HP            int64\n",
              "Attack        int64\n",
              "Defense       int64\n",
              "Sp. Atk       int64\n",
              "Sp. Def       int64\n",
              "Speed         int64\n",
              "Generation    int64\n",
              "Legendary      bool\n",
              "dtype: object"
            ]
          },
          "metadata": {},
          "execution_count": 16
        }
      ]
    },
    {
      "cell_type": "code",
      "source": [
        "pkmn_knn['Legendary'] = pkmn_knn['Legendary'].astype(int)"
      ],
      "metadata": {
        "_cell_guid": "e8b68140-0fd4-4cb9-a53f-19d0b68c2cb8",
        "_uuid": "e585aaedd134ab5c19336bf4acb3dbb00b288847",
        "collapsed": true,
        "jupyter": {
          "outputs_hidden": true
        },
        "trusted": true,
        "id": "H67zqH92_w_X"
      },
      "execution_count": null,
      "outputs": []
    },
    {
      "cell_type": "markdown",
      "source": [
        "**Standarisasi dan Normalisasi data**"
      ],
      "metadata": {
        "_cell_guid": "35fcf812-3e40-4737-8a80-0195823c8de1",
        "_uuid": "00e3bfdd6e5b94fc7648f6ec7f460670fa734200",
        "id": "ErYt1l1z_w_X"
      }
    },
    {
      "cell_type": "code",
      "source": [
        "from sklearn.preprocessing import StandardScaler\n",
        "scaler= StandardScaler()\n",
        "scaler.fit(pkmn_knn.drop('Legendary', axis=1))\n",
        "scaled_data= scaler.transform(pkmn_knn.drop('Legendary', axis=1))\n",
        "scaled= pd.DataFrame(scaled_data, columns=pkmn_knn.columns[:-1])"
      ],
      "metadata": {
        "_cell_guid": "484c0cd6-6a4c-4d8a-89b2-b25699b1d96a",
        "_uuid": "dbd9ac2ab311c7ac12e0c9ec23ec77be7ad96edc",
        "collapsed": true,
        "jupyter": {
          "outputs_hidden": true
        },
        "trusted": true,
        "id": "ucSlFggM_w_X"
      },
      "execution_count": null,
      "outputs": []
    },
    {
      "cell_type": "code",
      "source": [
        "X= scaled\n",
        "y= pkmn_knn['Legendary']"
      ],
      "metadata": {
        "_cell_guid": "658ed246-bd8d-478d-8104-3bbfdc7dadf9",
        "_uuid": "b5256659c2ff8e91168324bd02a2f3e69922d6a0",
        "collapsed": true,
        "jupyter": {
          "outputs_hidden": true
        },
        "trusted": true,
        "id": "vJE3WNnl_w_Y"
      },
      "execution_count": null,
      "outputs": []
    },
    {
      "cell_type": "markdown",
      "source": [
        "**Train Test Split Data untuk KNN**"
      ],
      "metadata": {
        "_uuid": "86bc498ae651ccf7ab56d005a730f16bc6aac584",
        "id": "0xgFX2UE_w_Y"
      }
    },
    {
      "cell_type": "code",
      "source": [
        "from sklearn.model_selection import train_test_split"
      ],
      "metadata": {
        "_cell_guid": "29869d9d-e972-489d-989a-2b4aab0928f9",
        "_uuid": "e8cf44c08f78afb6421805766d58c594a564ca99",
        "trusted": true,
        "id": "DtM9tu7y_w_Y"
      },
      "execution_count": null,
      "outputs": []
    },
    {
      "cell_type": "code",
      "source": [
        "X_train, X_test, y_train, y_test = train_test_split(X, y, test_size=.3, random_state=88)"
      ],
      "metadata": {
        "_cell_guid": "86a1b45d-5318-4661-b630-9b3e20cdcda6",
        "_uuid": "48bbbaa7c759be614d9f27c040c2deadf8a54a84",
        "collapsed": true,
        "jupyter": {
          "outputs_hidden": true
        },
        "trusted": true,
        "id": "WCMVFaMx_w_Y"
      },
      "execution_count": null,
      "outputs": []
    },
    {
      "cell_type": "markdown",
      "source": [
        "**Import KNN sklearn library KNN**"
      ],
      "metadata": {
        "_uuid": "f920e2d0413791623a58a83f2f91742892e32cc2",
        "id": "wuDP6Xgg_w_Y"
      }
    },
    {
      "cell_type": "code",
      "source": [
        "from sklearn.neighbors import KNeighborsClassifier"
      ],
      "metadata": {
        "_cell_guid": "3ad0c4fa-9337-4ddc-bc08-b932a3970382",
        "_uuid": "b20244e049aca39c7ae3f276aa8a57de8f38a6a5",
        "collapsed": true,
        "jupyter": {
          "outputs_hidden": true
        },
        "trusted": true,
        "id": "X2L8oAnF_w_Z"
      },
      "execution_count": null,
      "outputs": []
    },
    {
      "cell_type": "code",
      "source": [
        "knn= KNeighborsClassifier(n_neighbors=1)"
      ],
      "metadata": {
        "_cell_guid": "c02ba4c9-b944-4b1a-b4c0-8b71dfd09a92",
        "_uuid": "43218ac70e8f288a83716072fc718ebd301c1146",
        "collapsed": true,
        "jupyter": {
          "outputs_hidden": true
        },
        "trusted": true,
        "id": "Ml2DeRln_w_Z"
      },
      "execution_count": null,
      "outputs": []
    },
    {
      "cell_type": "markdown",
      "source": [
        "**Fit the training sets**"
      ],
      "metadata": {
        "_uuid": "4f427437b4488483d8b9beccbb95183882eb3bc3",
        "id": "YI_xG4Uj_w_Z"
      }
    },
    {
      "cell_type": "code",
      "source": [
        "knn.fit(X_train, y_train)"
      ],
      "metadata": {
        "_cell_guid": "314cf519-2799-44f2-8385-df7516a9ea59",
        "_uuid": "7f0d416f708eb257ee45d1030cbb1502e87cfabb",
        "trusted": true,
        "colab": {
          "base_uri": "https://localhost:8080/"
        },
        "id": "gu08keBi_w_Z",
        "outputId": "3715e672-9759-4a7b-ef3a-0abf834d8767"
      },
      "execution_count": null,
      "outputs": [
        {
          "output_type": "execute_result",
          "data": {
            "text/plain": [
              "KNeighborsClassifier(n_neighbors=1)"
            ]
          },
          "metadata": {},
          "execution_count": 25
        }
      ]
    },
    {
      "cell_type": "markdown",
      "source": [
        "**Prediksi dari test set**"
      ],
      "metadata": {
        "_uuid": "f8fb95b9b840c6ae6ec48e6a76150b679a4ab627",
        "id": "zi3ul4hU_w_Z"
      }
    },
    {
      "cell_type": "code",
      "source": [
        "predictions= knn.predict(X_test)"
      ],
      "metadata": {
        "_cell_guid": "f2ef3020-1883-4483-a9af-7341b3932df1",
        "_uuid": "83d462c4cf84d880fd506660d9a373fa16c468ae",
        "collapsed": true,
        "jupyter": {
          "outputs_hidden": true
        },
        "trusted": true,
        "id": "SdxTXi57_w_Z"
      },
      "execution_count": null,
      "outputs": []
    },
    {
      "cell_type": "markdown",
      "source": [
        "**Evaluasi accuracy rates dari model**\n",
        "\n",
        "95.4%"
      ],
      "metadata": {
        "_uuid": "ff1dc43b8707a3c091fb69e1169154fbb660a8b2",
        "id": "CX4ITnky_w_a"
      }
    },
    {
      "cell_type": "code",
      "source": [
        "from sklearn.metrics import accuracy_score, f1_score, precision_score, recall_score, classification_report\n",
        "\n",
        "def get_metrics(y_test, predictions):  \n",
        "    # true positives / (true positives+false positives)\n",
        "    precision = precision_score(y_test, predictions, pos_label=None,\n",
        "                                    average='weighted')             \n",
        "    # true positives / (true positives + false negatives)\n",
        "    recall = recall_score(y_test, predictions, pos_label=None,\n",
        "                              average='weighted')\n",
        "    # rata rata harmonic dari precision and recall\n",
        "    f1 = f1_score(y_test, predictions, pos_label=None, average='weighted')\n",
        "    # true positives + true negatives/ total\n",
        "    accuracy = accuracy_score(y_test, predictions)\n",
        "    return accuracy, precision, recall, f1\n",
        "\n",
        "accuracy, precision, recall, f1 = get_metrics(y_test, predictions)\n",
        "print(\"accuracy = %.3f, precision = %.3f, recall = %.3f, f1 = %.3f\" % (accuracy, precision, recall, f1))"
      ],
      "metadata": {
        "_uuid": "8f6fdd57c099975c2545173a3a2d9a0446857e06",
        "trusted": true,
        "colab": {
          "base_uri": "https://localhost:8080/"
        },
        "id": "_gcuW-xs_w_a",
        "outputId": "15677733-06e8-4b5a-d944-a3219e65ff2b"
      },
      "execution_count": null,
      "outputs": [
        {
          "output_type": "stream",
          "name": "stdout",
          "text": [
            "accuracy = 0.954, precision = 0.953, recall = 0.954, f1 = 0.953\n"
          ]
        }
      ]
    },
    {
      "cell_type": "markdown",
      "source": [
        "**Plot Confusion Matrix**"
      ],
      "metadata": {
        "_uuid": "cd6c12d7b58f8ea689bb8d220f32fe78b83faa9b",
        "id": "fR1ezNis_w_a"
      }
    },
    {
      "cell_type": "code",
      "source": [
        "import itertools\n",
        "from sklearn.metrics import confusion_matrix\n",
        "\n",
        "def plot_confusion_matrix(cm, classes,\n",
        "                          normalize=False,\n",
        "                          title='Confusion matrix',\n",
        "                          cmap=plt.cm.winter):\n",
        "    if normalize:\n",
        "        cm = cm.astype('float') / cm.sum(axis=1)[:, np.newaxis]\n",
        "    plt.imshow(cm, interpolation='nearest', cmap=cmap)\n",
        "    plt.title(title, fontsize=30)\n",
        "    plt.colorbar()\n",
        "    tick_marks = np.arange(len(classes))\n",
        "    plt.xticks(tick_marks, classes, fontsize=15)\n",
        "    plt.yticks(tick_marks, classes, fontsize=15)\n",
        "    \n",
        "    fmt = '.2f' if normalize else 'd'\n",
        "    thresh = cm.max() / 2.\n",
        "\n",
        "    for i, j in itertools.product(range(cm.shape[0]), range(cm.shape[1])):\n",
        "        plt.text(j, i, format(cm[i, j], fmt), horizontalalignment=\"center\", \n",
        "                 color=\"white\" if cm[i, j] < thresh else \"black\", fontsize=30)\n",
        "    \n",
        "    plt.tight_layout()\n",
        "    plt.ylabel('True label', fontsize=20)\n",
        "    plt.xlabel('Predicted label', fontsize=20)\n",
        "\n",
        "    return plt"
      ],
      "metadata": {
        "_uuid": "cb3dc813a1ed89c90317a5ba98b0c35a639b1a22",
        "collapsed": true,
        "jupyter": {
          "outputs_hidden": true
        },
        "trusted": true,
        "id": "j0XFJjl3_w_b"
      },
      "execution_count": null,
      "outputs": []
    },
    {
      "cell_type": "code",
      "source": [
        "cm= confusion_matrix(y_test, predictions)\n",
        "fig = plt.figure(figsize=(8, 8))\n",
        "plot = plot_confusion_matrix(cm, classes=['Non-Legendary','Legendary'], normalize=False, title='Confusion Matrix')\n",
        "plt.show()"
      ],
      "metadata": {
        "_cell_guid": "d50a96b8-5107-4fa2-ac00-a95356db0e43",
        "_uuid": "eb61b878add0e93475a2b5103b363ace8237545f",
        "trusted": true,
        "colab": {
          "base_uri": "https://localhost:8080/",
          "height": 585
        },
        "id": "jbRy5w3e_w_b",
        "outputId": "17ade083-2d50-4bc2-8212-d4235dbc645d"
      },
      "execution_count": null,
      "outputs": [
        {
          "output_type": "display_data",
          "data": {
            "image/png": "[encoded data removed]",
            "text/plain": [
              "<Figure size 576x576 with 2 Axes>"
            ]
          },
          "metadata": {}
        }
      ]
    },
    {
      "cell_type": "markdown",
      "source": [
        "**Haruskah kita memilih n_neighbors yang berbeda dari 1?**\n",
        "\n",
        "* knn= KNeighborsClassifier(n_neighbors=1)"
      ],
      "metadata": {
        "_uuid": "9b9ec8421c545cdc9a8fd978e761236aff3144ba",
        "id": "qyKUL-Q3_w_b"
      }
    },
    {
      "cell_type": "code",
      "source": [
        "error_rate = []\n",
        "\n",
        "for i in range(1,40):\n",
        "    \n",
        "    knn = KNeighborsClassifier(n_neighbors=i)\n",
        "    knn.fit(X_train,y_train)\n",
        "    pred_i = knn.predict(X_test)\n",
        "    error_rate.append(np.mean(pred_i != y_test))"
      ],
      "metadata": {
        "_cell_guid": "ff33c976-f1a2-4957-98ce-d7ff71a562d5",
        "_uuid": "041b4bc227f701f12b06ba48f388e6bac447a4c3",
        "collapsed": true,
        "jupyter": {
          "outputs_hidden": true
        },
        "trusted": true,
        "id": "ZrIjFI9E_w_b"
      },
      "execution_count": null,
      "outputs": []
    },
    {
      "cell_type": "code",
      "source": [
        "plt.figure(figsize=(10,6))\n",
        "plt.plot(range(1,40),error_rate,color='blue', linestyle='dashed', marker='o',\n",
        "         markerfacecolor='red', markersize=10)\n",
        "plt.title('Error Rate vs. K Value')\n",
        "plt.xlabel('K')\n",
        "plt.ylabel('Error Rate')"
      ],
      "metadata": {
        "_cell_guid": "e1106fdb-590a-4807-8fc5-ba455704adc1",
        "_uuid": "a334e85318b217c4c9775c14e37f4b4ab751eeb2",
        "trusted": true,
        "colab": {
          "base_uri": "https://localhost:8080/",
          "height": 422
        },
        "id": "ToUlmvb1_w_c",
        "outputId": "f397b625-807c-4833-940f-19c25be164c9"
      },
      "execution_count": null,
      "outputs": [
        {
          "output_type": "execute_result",
          "data": {
            "text/plain": [
              "Text(0, 0.5, 'Error Rate')"
            ]
          },
          "metadata": {},
          "execution_count": 31
        },
        {
          "output_type": "display_data",
          "data": {
            "image/png": "[encoded data removed]",
            "text/plain": [
              "<Figure size 720x432 with 1 Axes>"
            ]
          },
          "metadata": {}
        }
      ]
    },
    {
      "cell_type": "markdown",
      "source": [
        "Error Rate sudah rendah untuk K=1"
      ],
      "metadata": {
        "_uuid": "16c3cc9bcc77ece185befac2001d2aff824a8aa1",
        "id": "0ZGFwziL_w_c"
      }
    }
  ]
}